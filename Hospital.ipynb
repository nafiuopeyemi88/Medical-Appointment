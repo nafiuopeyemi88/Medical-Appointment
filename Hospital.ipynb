{
 "cells": [
  {
   "cell_type": "markdown",
   "id": "687db9ec",
   "metadata": {},
   "source": [
    "# Project: Exploratory Analysis in a Medical Appointment Dataset\n"
   ]
  },
  {
   "cell_type": "markdown",
   "id": "520669f0",
   "metadata": {},
   "source": [
    "This project investigates a medical appointment dataset, towards providing answers to questions that arise from such dataset. The dataset was collected from patients in a Brazillian hospital. \n",
    "\n",
    "While gathering these data, specific attributes were obtained from the target patients and categorized into columns. \n",
    "\n",
    "Metadata\n",
    "\n",
    "Columns\n",
    "PatientId:     UniqueId for each patient record\n",
    "AppointmentId: Id for each patient\n",
    "Neighborhood:  Information about the hospital geographic location\n",
    "SMS_Recieved:  Stating whether patients received SMS about their appointments\n",
    "Scheduled Day: Patient appointment scheduled day\n",
    "Scholarship:   Indicates whether or not the patient is enrolled in Brasilian welfare program Bolsa Família\n",
    "No_show:       Provides information whether patient came for the appointment or not\n",
    "Gender:        Patient gender\n",
    "Hipertension:  Stating whether patient is hypertensive or not\n",
    "Diabetes:      Stating whether patient is diabetic or not\n",
    "Alcoholism:    Stating whether patient is suffering from alcoholism or not\n",
    "Handcap:       Stating whether patient is handicapped\n",
    "Age:           Patient's age\n",
    "\n"
   ]
  },
  {
   "cell_type": "code",
   "execution_count": 1,
   "id": "567b80af",
   "metadata": {},
   "outputs": [],
   "source": [
    "#importing packages and libraries to be used\n",
    "import pandas as pd\n",
    "import numpy as np\n",
    "import seaborn as sns\n",
    "import matplotlib.pyplot as plt\n",
    "%matplotlib inline"
   ]
  },
  {
   "cell_type": "code",
   "execution_count": 2,
   "id": "00966711",
   "metadata": {},
   "outputs": [
    {
     "data": {
      "text/html": [
       "<div>\n",
       "<style scoped>\n",
       "    .dataframe tbody tr th:only-of-type {\n",
       "        vertical-align: middle;\n",
       "    }\n",
       "\n",
       "    .dataframe tbody tr th {\n",
       "        vertical-align: top;\n",
       "    }\n",
       "\n",
       "    .dataframe thead th {\n",
       "        text-align: right;\n",
       "    }\n",
       "</style>\n",
       "<table border=\"1\" class=\"dataframe\">\n",
       "  <thead>\n",
       "    <tr style=\"text-align: right;\">\n",
       "      <th></th>\n",
       "      <th>PatientId</th>\n",
       "      <th>Gender</th>\n",
       "      <th>ScheduledDay</th>\n",
       "      <th>AppointmentDay</th>\n",
       "      <th>Age</th>\n",
       "      <th>Neighbourhood</th>\n",
       "      <th>Scholarship</th>\n",
       "      <th>Hipertension</th>\n",
       "      <th>Diabetes</th>\n",
       "      <th>Alcoholism</th>\n",
       "      <th>Handcap</th>\n",
       "      <th>SMS_received</th>\n",
       "      <th>No-show</th>\n",
       "    </tr>\n",
       "    <tr>\n",
       "      <th>AppointmentID</th>\n",
       "      <th></th>\n",
       "      <th></th>\n",
       "      <th></th>\n",
       "      <th></th>\n",
       "      <th></th>\n",
       "      <th></th>\n",
       "      <th></th>\n",
       "      <th></th>\n",
       "      <th></th>\n",
       "      <th></th>\n",
       "      <th></th>\n",
       "      <th></th>\n",
       "      <th></th>\n",
       "    </tr>\n",
       "  </thead>\n",
       "  <tbody>\n",
       "    <tr>\n",
       "      <th>5642903</th>\n",
       "      <td>2.987250e+13</td>\n",
       "      <td>F</td>\n",
       "      <td>2016-04-29T18:38:08Z</td>\n",
       "      <td>2016-04-29T00:00:00Z</td>\n",
       "      <td>62</td>\n",
       "      <td>JARDIM DA PENHA</td>\n",
       "      <td>0</td>\n",
       "      <td>1</td>\n",
       "      <td>0</td>\n",
       "      <td>0</td>\n",
       "      <td>0</td>\n",
       "      <td>0</td>\n",
       "      <td>No</td>\n",
       "    </tr>\n",
       "    <tr>\n",
       "      <th>5642503</th>\n",
       "      <td>5.589978e+14</td>\n",
       "      <td>M</td>\n",
       "      <td>2016-04-29T16:08:27Z</td>\n",
       "      <td>2016-04-29T00:00:00Z</td>\n",
       "      <td>56</td>\n",
       "      <td>JARDIM DA PENHA</td>\n",
       "      <td>0</td>\n",
       "      <td>0</td>\n",
       "      <td>0</td>\n",
       "      <td>0</td>\n",
       "      <td>0</td>\n",
       "      <td>0</td>\n",
       "      <td>No</td>\n",
       "    </tr>\n",
       "    <tr>\n",
       "      <th>5642549</th>\n",
       "      <td>4.262962e+12</td>\n",
       "      <td>F</td>\n",
       "      <td>2016-04-29T16:19:04Z</td>\n",
       "      <td>2016-04-29T00:00:00Z</td>\n",
       "      <td>62</td>\n",
       "      <td>MATA DA PRAIA</td>\n",
       "      <td>0</td>\n",
       "      <td>0</td>\n",
       "      <td>0</td>\n",
       "      <td>0</td>\n",
       "      <td>0</td>\n",
       "      <td>0</td>\n",
       "      <td>No</td>\n",
       "    </tr>\n",
       "    <tr>\n",
       "      <th>5642828</th>\n",
       "      <td>8.679512e+11</td>\n",
       "      <td>F</td>\n",
       "      <td>2016-04-29T17:29:31Z</td>\n",
       "      <td>2016-04-29T00:00:00Z</td>\n",
       "      <td>8</td>\n",
       "      <td>PONTAL DE CAMBURI</td>\n",
       "      <td>0</td>\n",
       "      <td>0</td>\n",
       "      <td>0</td>\n",
       "      <td>0</td>\n",
       "      <td>0</td>\n",
       "      <td>0</td>\n",
       "      <td>No</td>\n",
       "    </tr>\n",
       "    <tr>\n",
       "      <th>5642494</th>\n",
       "      <td>8.841186e+12</td>\n",
       "      <td>F</td>\n",
       "      <td>2016-04-29T16:07:23Z</td>\n",
       "      <td>2016-04-29T00:00:00Z</td>\n",
       "      <td>56</td>\n",
       "      <td>JARDIM DA PENHA</td>\n",
       "      <td>0</td>\n",
       "      <td>1</td>\n",
       "      <td>1</td>\n",
       "      <td>0</td>\n",
       "      <td>0</td>\n",
       "      <td>0</td>\n",
       "      <td>No</td>\n",
       "    </tr>\n",
       "    <tr>\n",
       "      <th>...</th>\n",
       "      <td>...</td>\n",
       "      <td>...</td>\n",
       "      <td>...</td>\n",
       "      <td>...</td>\n",
       "      <td>...</td>\n",
       "      <td>...</td>\n",
       "      <td>...</td>\n",
       "      <td>...</td>\n",
       "      <td>...</td>\n",
       "      <td>...</td>\n",
       "      <td>...</td>\n",
       "      <td>...</td>\n",
       "      <td>...</td>\n",
       "    </tr>\n",
       "    <tr>\n",
       "      <th>5651768</th>\n",
       "      <td>2.572134e+12</td>\n",
       "      <td>F</td>\n",
       "      <td>2016-05-03T09:15:35Z</td>\n",
       "      <td>2016-06-07T00:00:00Z</td>\n",
       "      <td>56</td>\n",
       "      <td>MARIA ORTIZ</td>\n",
       "      <td>0</td>\n",
       "      <td>0</td>\n",
       "      <td>0</td>\n",
       "      <td>0</td>\n",
       "      <td>0</td>\n",
       "      <td>1</td>\n",
       "      <td>No</td>\n",
       "    </tr>\n",
       "    <tr>\n",
       "      <th>5650093</th>\n",
       "      <td>3.596266e+12</td>\n",
       "      <td>F</td>\n",
       "      <td>2016-05-03T07:27:33Z</td>\n",
       "      <td>2016-06-07T00:00:00Z</td>\n",
       "      <td>51</td>\n",
       "      <td>MARIA ORTIZ</td>\n",
       "      <td>0</td>\n",
       "      <td>0</td>\n",
       "      <td>0</td>\n",
       "      <td>0</td>\n",
       "      <td>0</td>\n",
       "      <td>1</td>\n",
       "      <td>No</td>\n",
       "    </tr>\n",
       "    <tr>\n",
       "      <th>5630692</th>\n",
       "      <td>1.557663e+13</td>\n",
       "      <td>F</td>\n",
       "      <td>2016-04-27T16:03:52Z</td>\n",
       "      <td>2016-06-07T00:00:00Z</td>\n",
       "      <td>21</td>\n",
       "      <td>MARIA ORTIZ</td>\n",
       "      <td>0</td>\n",
       "      <td>0</td>\n",
       "      <td>0</td>\n",
       "      <td>0</td>\n",
       "      <td>0</td>\n",
       "      <td>1</td>\n",
       "      <td>No</td>\n",
       "    </tr>\n",
       "    <tr>\n",
       "      <th>5630323</th>\n",
       "      <td>9.213493e+13</td>\n",
       "      <td>F</td>\n",
       "      <td>2016-04-27T15:09:23Z</td>\n",
       "      <td>2016-06-07T00:00:00Z</td>\n",
       "      <td>38</td>\n",
       "      <td>MARIA ORTIZ</td>\n",
       "      <td>0</td>\n",
       "      <td>0</td>\n",
       "      <td>0</td>\n",
       "      <td>0</td>\n",
       "      <td>0</td>\n",
       "      <td>1</td>\n",
       "      <td>No</td>\n",
       "    </tr>\n",
       "    <tr>\n",
       "      <th>5629448</th>\n",
       "      <td>3.775115e+14</td>\n",
       "      <td>F</td>\n",
       "      <td>2016-04-27T13:30:56Z</td>\n",
       "      <td>2016-06-07T00:00:00Z</td>\n",
       "      <td>54</td>\n",
       "      <td>MARIA ORTIZ</td>\n",
       "      <td>0</td>\n",
       "      <td>0</td>\n",
       "      <td>0</td>\n",
       "      <td>0</td>\n",
       "      <td>0</td>\n",
       "      <td>1</td>\n",
       "      <td>No</td>\n",
       "    </tr>\n",
       "  </tbody>\n",
       "</table>\n",
       "<p>110527 rows × 13 columns</p>\n",
       "</div>"
      ],
      "text/plain": [
       "                  PatientId Gender          ScheduledDay  \\\n",
       "AppointmentID                                              \n",
       "5642903        2.987250e+13      F  2016-04-29T18:38:08Z   \n",
       "5642503        5.589978e+14      M  2016-04-29T16:08:27Z   \n",
       "5642549        4.262962e+12      F  2016-04-29T16:19:04Z   \n",
       "5642828        8.679512e+11      F  2016-04-29T17:29:31Z   \n",
       "5642494        8.841186e+12      F  2016-04-29T16:07:23Z   \n",
       "...                     ...    ...                   ...   \n",
       "5651768        2.572134e+12      F  2016-05-03T09:15:35Z   \n",
       "5650093        3.596266e+12      F  2016-05-03T07:27:33Z   \n",
       "5630692        1.557663e+13      F  2016-04-27T16:03:52Z   \n",
       "5630323        9.213493e+13      F  2016-04-27T15:09:23Z   \n",
       "5629448        3.775115e+14      F  2016-04-27T13:30:56Z   \n",
       "\n",
       "                     AppointmentDay  Age      Neighbourhood  Scholarship  \\\n",
       "AppointmentID                                                              \n",
       "5642903        2016-04-29T00:00:00Z   62    JARDIM DA PENHA            0   \n",
       "5642503        2016-04-29T00:00:00Z   56    JARDIM DA PENHA            0   \n",
       "5642549        2016-04-29T00:00:00Z   62      MATA DA PRAIA            0   \n",
       "5642828        2016-04-29T00:00:00Z    8  PONTAL DE CAMBURI            0   \n",
       "5642494        2016-04-29T00:00:00Z   56    JARDIM DA PENHA            0   \n",
       "...                             ...  ...                ...          ...   \n",
       "5651768        2016-06-07T00:00:00Z   56        MARIA ORTIZ            0   \n",
       "5650093        2016-06-07T00:00:00Z   51        MARIA ORTIZ            0   \n",
       "5630692        2016-06-07T00:00:00Z   21        MARIA ORTIZ            0   \n",
       "5630323        2016-06-07T00:00:00Z   38        MARIA ORTIZ            0   \n",
       "5629448        2016-06-07T00:00:00Z   54        MARIA ORTIZ            0   \n",
       "\n",
       "               Hipertension  Diabetes  Alcoholism  Handcap  SMS_received  \\\n",
       "AppointmentID                                                              \n",
       "5642903                   1         0           0        0             0   \n",
       "5642503                   0         0           0        0             0   \n",
       "5642549                   0         0           0        0             0   \n",
       "5642828                   0         0           0        0             0   \n",
       "5642494                   1         1           0        0             0   \n",
       "...                     ...       ...         ...      ...           ...   \n",
       "5651768                   0         0           0        0             1   \n",
       "5650093                   0         0           0        0             1   \n",
       "5630692                   0         0           0        0             1   \n",
       "5630323                   0         0           0        0             1   \n",
       "5629448                   0         0           0        0             1   \n",
       "\n",
       "              No-show  \n",
       "AppointmentID          \n",
       "5642903            No  \n",
       "5642503            No  \n",
       "5642549            No  \n",
       "5642828            No  \n",
       "5642494            No  \n",
       "...               ...  \n",
       "5651768            No  \n",
       "5650093            No  \n",
       "5630692            No  \n",
       "5630323            No  \n",
       "5629448            No  \n",
       "\n",
       "[110527 rows x 13 columns]"
      ]
     },
     "execution_count": 2,
     "metadata": {},
     "output_type": "execute_result"
    }
   ],
   "source": [
    "#importing the data\n",
    "\n",
    "medical_df = pd.read_csv('medicalappointment_data.csv', index_col = [1])\n",
    "\n",
    "medical_df"
   ]
  },
  {
   "cell_type": "markdown",
   "id": "167bdb35",
   "metadata": {},
   "source": [
    "The dataset has 110527 rows and 13 columns. Some of these columns might be unnecessary towards exploratory analysis that needs to be carried out.Specific questions can be answered without needing some data.\n"
   ]
  },
  {
   "cell_type": "code",
   "execution_count": 3,
   "id": "01108861",
   "metadata": {},
   "outputs": [
    {
     "data": {
      "text/plain": [
       "Index(['PatientId', 'Gender', 'ScheduledDay', 'AppointmentDay', 'Age',\n",
       "       'Neighbourhood', 'Scholarship', 'Hipertension', 'Diabetes',\n",
       "       'Alcoholism', 'Handcap', 'SMS_received', 'No-show'],\n",
       "      dtype='object')"
      ]
     },
     "execution_count": 3,
     "metadata": {},
     "output_type": "execute_result"
    }
   ],
   "source": [
    "medical_df.columns"
   ]
  },
  {
   "cell_type": "code",
   "execution_count": 4,
   "id": "d694838c",
   "metadata": {},
   "outputs": [
    {
     "name": "stdout",
     "output_type": "stream",
     "text": [
      "<class 'pandas.core.frame.DataFrame'>\n",
      "Int64Index: 110527 entries, 5642903 to 5629448\n",
      "Data columns (total 13 columns):\n",
      " #   Column          Non-Null Count   Dtype  \n",
      "---  ------          --------------   -----  \n",
      " 0   PatientId       110527 non-null  float64\n",
      " 1   Gender          110527 non-null  object \n",
      " 2   ScheduledDay    110527 non-null  object \n",
      " 3   AppointmentDay  110527 non-null  object \n",
      " 4   Age             110527 non-null  int64  \n",
      " 5   Neighbourhood   110527 non-null  object \n",
      " 6   Scholarship     110527 non-null  int64  \n",
      " 7   Hipertension    110527 non-null  int64  \n",
      " 8   Diabetes        110527 non-null  int64  \n",
      " 9   Alcoholism      110527 non-null  int64  \n",
      " 10  Handcap         110527 non-null  int64  \n",
      " 11  SMS_received    110527 non-null  int64  \n",
      " 12  No-show         110527 non-null  object \n",
      "dtypes: float64(1), int64(7), object(5)\n",
      "memory usage: 11.8+ MB\n"
     ]
    }
   ],
   "source": [
    "#checking for null values\n",
    "medical_df.info()"
   ]
  },
  {
   "cell_type": "markdown",
   "id": "e2b44f9a",
   "metadata": {},
   "source": [
    "The dataset has non-null , the datatypes needs to be addressed also to convert datatypes such as data indicating dates to date types. "
   ]
  },
  {
   "cell_type": "code",
   "execution_count": 5,
   "id": "14b114f2",
   "metadata": {},
   "outputs": [
    {
     "data": {
      "text/html": [
       "<div>\n",
       "<style scoped>\n",
       "    .dataframe tbody tr th:only-of-type {\n",
       "        vertical-align: middle;\n",
       "    }\n",
       "\n",
       "    .dataframe tbody tr th {\n",
       "        vertical-align: top;\n",
       "    }\n",
       "\n",
       "    .dataframe thead th {\n",
       "        text-align: right;\n",
       "    }\n",
       "</style>\n",
       "<table border=\"1\" class=\"dataframe\">\n",
       "  <thead>\n",
       "    <tr style=\"text-align: right;\">\n",
       "      <th></th>\n",
       "      <th>PatientId</th>\n",
       "      <th>Age</th>\n",
       "      <th>Scholarship</th>\n",
       "      <th>Hipertension</th>\n",
       "      <th>Diabetes</th>\n",
       "      <th>Alcoholism</th>\n",
       "      <th>Handcap</th>\n",
       "      <th>SMS_received</th>\n",
       "    </tr>\n",
       "  </thead>\n",
       "  <tbody>\n",
       "    <tr>\n",
       "      <th>count</th>\n",
       "      <td>1.105270e+05</td>\n",
       "      <td>110527.000000</td>\n",
       "      <td>110527.000000</td>\n",
       "      <td>110527.000000</td>\n",
       "      <td>110527.000000</td>\n",
       "      <td>110527.000000</td>\n",
       "      <td>110527.000000</td>\n",
       "      <td>110527.000000</td>\n",
       "    </tr>\n",
       "    <tr>\n",
       "      <th>mean</th>\n",
       "      <td>1.474963e+14</td>\n",
       "      <td>37.088874</td>\n",
       "      <td>0.098266</td>\n",
       "      <td>0.197246</td>\n",
       "      <td>0.071865</td>\n",
       "      <td>0.030400</td>\n",
       "      <td>0.022248</td>\n",
       "      <td>0.321026</td>\n",
       "    </tr>\n",
       "    <tr>\n",
       "      <th>std</th>\n",
       "      <td>2.560949e+14</td>\n",
       "      <td>23.110205</td>\n",
       "      <td>0.297675</td>\n",
       "      <td>0.397921</td>\n",
       "      <td>0.258265</td>\n",
       "      <td>0.171686</td>\n",
       "      <td>0.161543</td>\n",
       "      <td>0.466873</td>\n",
       "    </tr>\n",
       "    <tr>\n",
       "      <th>min</th>\n",
       "      <td>3.921784e+04</td>\n",
       "      <td>-1.000000</td>\n",
       "      <td>0.000000</td>\n",
       "      <td>0.000000</td>\n",
       "      <td>0.000000</td>\n",
       "      <td>0.000000</td>\n",
       "      <td>0.000000</td>\n",
       "      <td>0.000000</td>\n",
       "    </tr>\n",
       "    <tr>\n",
       "      <th>25%</th>\n",
       "      <td>4.172614e+12</td>\n",
       "      <td>18.000000</td>\n",
       "      <td>0.000000</td>\n",
       "      <td>0.000000</td>\n",
       "      <td>0.000000</td>\n",
       "      <td>0.000000</td>\n",
       "      <td>0.000000</td>\n",
       "      <td>0.000000</td>\n",
       "    </tr>\n",
       "    <tr>\n",
       "      <th>50%</th>\n",
       "      <td>3.173184e+13</td>\n",
       "      <td>37.000000</td>\n",
       "      <td>0.000000</td>\n",
       "      <td>0.000000</td>\n",
       "      <td>0.000000</td>\n",
       "      <td>0.000000</td>\n",
       "      <td>0.000000</td>\n",
       "      <td>0.000000</td>\n",
       "    </tr>\n",
       "    <tr>\n",
       "      <th>75%</th>\n",
       "      <td>9.439172e+13</td>\n",
       "      <td>55.000000</td>\n",
       "      <td>0.000000</td>\n",
       "      <td>0.000000</td>\n",
       "      <td>0.000000</td>\n",
       "      <td>0.000000</td>\n",
       "      <td>0.000000</td>\n",
       "      <td>1.000000</td>\n",
       "    </tr>\n",
       "    <tr>\n",
       "      <th>max</th>\n",
       "      <td>9.999816e+14</td>\n",
       "      <td>115.000000</td>\n",
       "      <td>1.000000</td>\n",
       "      <td>1.000000</td>\n",
       "      <td>1.000000</td>\n",
       "      <td>1.000000</td>\n",
       "      <td>4.000000</td>\n",
       "      <td>1.000000</td>\n",
       "    </tr>\n",
       "  </tbody>\n",
       "</table>\n",
       "</div>"
      ],
      "text/plain": [
       "          PatientId            Age    Scholarship   Hipertension  \\\n",
       "count  1.105270e+05  110527.000000  110527.000000  110527.000000   \n",
       "mean   1.474963e+14      37.088874       0.098266       0.197246   \n",
       "std    2.560949e+14      23.110205       0.297675       0.397921   \n",
       "min    3.921784e+04      -1.000000       0.000000       0.000000   \n",
       "25%    4.172614e+12      18.000000       0.000000       0.000000   \n",
       "50%    3.173184e+13      37.000000       0.000000       0.000000   \n",
       "75%    9.439172e+13      55.000000       0.000000       0.000000   \n",
       "max    9.999816e+14     115.000000       1.000000       1.000000   \n",
       "\n",
       "            Diabetes     Alcoholism        Handcap   SMS_received  \n",
       "count  110527.000000  110527.000000  110527.000000  110527.000000  \n",
       "mean        0.071865       0.030400       0.022248       0.321026  \n",
       "std         0.258265       0.171686       0.161543       0.466873  \n",
       "min         0.000000       0.000000       0.000000       0.000000  \n",
       "25%         0.000000       0.000000       0.000000       0.000000  \n",
       "50%         0.000000       0.000000       0.000000       0.000000  \n",
       "75%         0.000000       0.000000       0.000000       1.000000  \n",
       "max         1.000000       1.000000       4.000000       1.000000  "
      ]
     },
     "execution_count": 5,
     "metadata": {},
     "output_type": "execute_result"
    }
   ],
   "source": [
    "medical_df.describe()"
   ]
  },
  {
   "cell_type": "markdown",
   "id": "cb5e09af",
   "metadata": {},
   "source": [
    "We can visually observe some discrepancies, the age column shows minimum age of -1, which is impossible. Also the handcap column shows maximum value of 4, we are expecting 1.  "
   ]
  },
  {
   "cell_type": "code",
   "execution_count": 6,
   "id": "159e0780",
   "metadata": {},
   "outputs": [
    {
     "data": {
      "text/plain": [
       "PatientId          62299\n",
       "Gender                 2\n",
       "ScheduledDay      103549\n",
       "AppointmentDay        27\n",
       "Age                  104\n",
       "Neighbourhood         81\n",
       "Scholarship            2\n",
       "Hipertension           2\n",
       "Diabetes               2\n",
       "Alcoholism             2\n",
       "Handcap                5\n",
       "SMS_received           2\n",
       "No-show                2\n",
       "dtype: int64"
      ]
     },
     "execution_count": 6,
     "metadata": {},
     "output_type": "execute_result"
    }
   ],
   "source": [
    "#checking unique enries, we want to explore the data to understand some fields\n",
    "\n",
    "medical_df.nunique()"
   ]
  },
  {
   "cell_type": "markdown",
   "id": "141ab550",
   "metadata": {},
   "source": [
    "This result shows that the patientId is not a column with unique values and patient could have different appointment date. It also shows the number of neighborhoods, where the data was collected - 81 neighborhoods within 27 days. Other column such as Diabetes, Scholarship, Hipertension, Np-show, SMS_received, Gender etc have two unique values.\n",
    "It is also noteworthy, that all other columns indicating the patient's health hav two unique values, whereas the Handcap data has 5. "
   ]
  },
  {
   "cell_type": "code",
   "execution_count": 7,
   "id": "5df90905",
   "metadata": {},
   "outputs": [
    {
     "data": {
      "text/plain": [
       "0    108286\n",
       "1      2042\n",
       "2       183\n",
       "3        13\n",
       "4         3\n",
       "Name: Handcap, dtype: int64"
      ]
     },
     "execution_count": 7,
     "metadata": {},
     "output_type": "execute_result"
    }
   ],
   "source": [
    "medical_df['Handcap'].value_counts()"
   ]
  },
  {
   "cell_type": "code",
   "execution_count": 8,
   "id": "5eb0b4fd",
   "metadata": {},
   "outputs": [
    {
     "data": {
      "text/html": [
       "<div>\n",
       "<style scoped>\n",
       "    .dataframe tbody tr th:only-of-type {\n",
       "        vertical-align: middle;\n",
       "    }\n",
       "\n",
       "    .dataframe tbody tr th {\n",
       "        vertical-align: top;\n",
       "    }\n",
       "\n",
       "    .dataframe thead th {\n",
       "        text-align: right;\n",
       "    }\n",
       "</style>\n",
       "<table border=\"1\" class=\"dataframe\">\n",
       "  <thead>\n",
       "    <tr style=\"text-align: right;\">\n",
       "      <th></th>\n",
       "      <th>PatientId</th>\n",
       "      <th>Gender</th>\n",
       "      <th>ScheduledDay</th>\n",
       "      <th>AppointmentDay</th>\n",
       "      <th>Age</th>\n",
       "      <th>Neighbourhood</th>\n",
       "      <th>Scholarship</th>\n",
       "      <th>Hipertension</th>\n",
       "      <th>Diabetes</th>\n",
       "      <th>Alcoholism</th>\n",
       "      <th>Handcap</th>\n",
       "      <th>SMS_received</th>\n",
       "      <th>No-show</th>\n",
       "    </tr>\n",
       "    <tr>\n",
       "      <th>AppointmentID</th>\n",
       "      <th></th>\n",
       "      <th></th>\n",
       "      <th></th>\n",
       "      <th></th>\n",
       "      <th></th>\n",
       "      <th></th>\n",
       "      <th></th>\n",
       "      <th></th>\n",
       "      <th></th>\n",
       "      <th></th>\n",
       "      <th></th>\n",
       "      <th></th>\n",
       "      <th></th>\n",
       "    </tr>\n",
       "  </thead>\n",
       "  <tbody>\n",
       "  </tbody>\n",
       "</table>\n",
       "</div>"
      ],
      "text/plain": [
       "Empty DataFrame\n",
       "Columns: [PatientId, Gender, ScheduledDay, AppointmentDay, Age, Neighbourhood, Scholarship, Hipertension, Diabetes, Alcoholism, Handcap, SMS_received, No-show]\n",
       "Index: []"
      ]
     },
     "execution_count": 8,
     "metadata": {},
     "output_type": "execute_result"
    }
   ],
   "source": [
    "medical_df.head(0)"
   ]
  },
  {
   "cell_type": "markdown",
   "id": "423ae236",
   "metadata": {},
   "source": [
    "Some text"
   ]
  },
  {
   "cell_type": "code",
   "execution_count": 9,
   "id": "0a09c895",
   "metadata": {},
   "outputs": [
    {
     "data": {
      "text/plain": [
       "2016-05-06T07:09:54Z    24\n",
       "2016-05-06T07:09:53Z    23\n",
       "2016-04-25T17:18:27Z    22\n",
       "2016-04-25T17:17:46Z    22\n",
       "2016-04-25T17:17:23Z    19\n",
       "                        ..\n",
       "2016-05-02T09:53:25Z     1\n",
       "2016-05-30T09:12:28Z     1\n",
       "2016-05-16T09:10:04Z     1\n",
       "2016-05-09T10:17:48Z     1\n",
       "2016-04-27T13:30:56Z     1\n",
       "Name: ScheduledDay, Length: 103549, dtype: int64"
      ]
     },
     "execution_count": 9,
     "metadata": {},
     "output_type": "execute_result"
    }
   ],
   "source": [
    "#renaming the Column names \n",
    "medical_df['ScheduledDay'].value_counts()"
   ]
  },
  {
   "cell_type": "code",
   "execution_count": 50,
   "id": "70981878",
   "metadata": {},
   "outputs": [
    {
     "data": {
      "text/plain": [
       "2016-06-06T00:00:00Z    4692\n",
       "2016-05-16T00:00:00Z    4613\n",
       "2016-05-09T00:00:00Z    4520\n",
       "2016-05-30T00:00:00Z    4514\n",
       "2016-06-08T00:00:00Z    4479\n",
       "2016-05-11T00:00:00Z    4474\n",
       "2016-06-01T00:00:00Z    4464\n",
       "2016-06-07T00:00:00Z    4416\n",
       "2016-05-12T00:00:00Z    4394\n",
       "2016-05-02T00:00:00Z    4376\n",
       "2016-05-18T00:00:00Z    4373\n",
       "2016-05-17T00:00:00Z    4372\n",
       "2016-06-02T00:00:00Z    4310\n",
       "2016-05-10T00:00:00Z    4308\n",
       "2016-05-31T00:00:00Z    4279\n",
       "2016-05-05T00:00:00Z    4273\n",
       "2016-05-19T00:00:00Z    4270\n",
       "2016-05-03T00:00:00Z    4256\n",
       "2016-05-04T00:00:00Z    4168\n",
       "2016-06-03T00:00:00Z    4090\n",
       "2016-05-24T00:00:00Z    4009\n",
       "2016-05-13T00:00:00Z    3987\n",
       "2016-05-25T00:00:00Z    3909\n",
       "2016-05-06T00:00:00Z    3879\n",
       "2016-05-20T00:00:00Z    3828\n",
       "2016-04-29T00:00:00Z    3235\n",
       "2016-05-14T00:00:00Z      39\n",
       "Name: AppointmentDay, dtype: int64"
      ]
     },
     "execution_count": 50,
     "metadata": {},
     "output_type": "execute_result"
    }
   ],
   "source": [
    "medical_df['AppointmentDay'].value_counts()"
   ]
  },
  {
   "cell_type": "markdown",
   "id": "272bd91d",
   "metadata": {},
   "source": [
    "Data cleaning\n",
    "Renaming columns to properly handle the dataset"
   ]
  },
  {
   "cell_type": "code",
   "execution_count": 10,
   "id": "8aa8c8b7",
   "metadata": {},
   "outputs": [],
   "source": [
    "\n",
    "medical_df.columns =[ 'patient_ID', 'gender', 'scheduled_day',\n",
    "                     'appointment_day', 'age', 'neighbourhood', 'scholarship',\n",
    "                     'hypertension', 'diabetes', 'alcoholism', 'handicap', \n",
    "                     'SMS_received','no_show']"
   ]
  },
  {
   "cell_type": "markdown",
   "id": "4541f067",
   "metadata": {},
   "source": [
    "Converting columns to their respective datatypes, such as scheduled_day, appointment_day. "
   ]
  },
  {
   "cell_type": "code",
   "execution_count": 11,
   "id": "19b152ae",
   "metadata": {},
   "outputs": [],
   "source": [
    "medical_df.scheduled_day = pd.to_datetime(medical_df.scheduled_day)\n"
   ]
  },
  {
   "cell_type": "code",
   "execution_count": 12,
   "id": "da0805cc",
   "metadata": {},
   "outputs": [],
   "source": [
    "#creating a new column named 'app_scheduled_hour' which indicates when the time, the appointment was taken\n",
    "medical_df['app_scheduled_hour'] =  medical_df.scheduled_day.apply(lambda x : x.hour)"
   ]
  },
  {
   "cell_type": "code",
   "execution_count": 13,
   "id": "79073204",
   "metadata": {},
   "outputs": [
    {
     "name": "stdout",
     "output_type": "stream",
     "text": [
      "<class 'pandas.core.frame.DataFrame'>\n",
      "Int64Index: 110527 entries, 5642903 to 5629448\n",
      "Data columns (total 14 columns):\n",
      " #   Column              Non-Null Count   Dtype              \n",
      "---  ------              --------------   -----              \n",
      " 0   patient_ID          110527 non-null  float64            \n",
      " 1   gender              110527 non-null  object             \n",
      " 2   scheduled_day       110527 non-null  datetime64[ns, UTC]\n",
      " 3   appointment_day     110527 non-null  object             \n",
      " 4   age                 110527 non-null  int64              \n",
      " 5   neighbourhood       110527 non-null  object             \n",
      " 6   scholarship         110527 non-null  int64              \n",
      " 7   hypertension        110527 non-null  int64              \n",
      " 8   diabetes            110527 non-null  int64              \n",
      " 9   alcoholism          110527 non-null  int64              \n",
      " 10  handicap            110527 non-null  int64              \n",
      " 11  SMS_received        110527 non-null  int64              \n",
      " 12  no_show             110527 non-null  object             \n",
      " 13  app_scheduled_hour  110527 non-null  int64              \n",
      "dtypes: datetime64[ns, UTC](1), float64(1), int64(8), object(4)\n",
      "memory usage: 12.6+ MB\n"
     ]
    }
   ],
   "source": [
    "medical_df.info()"
   ]
  },
  {
   "cell_type": "markdown",
   "id": "3890cb7b",
   "metadata": {},
   "source": [
    "Appointment date, which is one of the most important infomation in the dataset has information on the date of the medical appointment. "
   ]
  },
  {
   "cell_type": "code",
   "execution_count": 14,
   "id": "9b94ab50",
   "metadata": {},
   "outputs": [
    {
     "data": {
      "text/plain": [
       "2016-06-06T00:00:00Z    4692\n",
       "2016-05-16T00:00:00Z    4613\n",
       "2016-05-09T00:00:00Z    4520\n",
       "2016-05-30T00:00:00Z    4514\n",
       "2016-06-08T00:00:00Z    4479\n",
       "2016-05-11T00:00:00Z    4474\n",
       "2016-06-01T00:00:00Z    4464\n",
       "2016-06-07T00:00:00Z    4416\n",
       "2016-05-12T00:00:00Z    4394\n",
       "2016-05-02T00:00:00Z    4376\n",
       "2016-05-18T00:00:00Z    4373\n",
       "2016-05-17T00:00:00Z    4372\n",
       "2016-06-02T00:00:00Z    4310\n",
       "2016-05-10T00:00:00Z    4308\n",
       "2016-05-31T00:00:00Z    4279\n",
       "2016-05-05T00:00:00Z    4273\n",
       "2016-05-19T00:00:00Z    4270\n",
       "2016-05-03T00:00:00Z    4256\n",
       "2016-05-04T00:00:00Z    4168\n",
       "2016-06-03T00:00:00Z    4090\n",
       "2016-05-24T00:00:00Z    4009\n",
       "2016-05-13T00:00:00Z    3987\n",
       "2016-05-25T00:00:00Z    3909\n",
       "2016-05-06T00:00:00Z    3879\n",
       "2016-05-20T00:00:00Z    3828\n",
       "2016-04-29T00:00:00Z    3235\n",
       "2016-05-14T00:00:00Z      39\n",
       "Name: appointment_day, dtype: int64"
      ]
     },
     "execution_count": 14,
     "metadata": {},
     "output_type": "execute_result"
    }
   ],
   "source": [
    "medical_df['appointment_day'].value_counts()"
   ]
  },
  {
   "cell_type": "markdown",
   "id": "0f707a95",
   "metadata": {},
   "source": [
    "The appointment date column has a time element, which is clearly not recorded from the result above. We can extract meaningful additional information by comparing this column with the scheduled day column. \n",
    "Difference between scheduled day and appointment day\n",
    "Categorize the difference between the two dates\n",
    "Days of the week in which the appointment day falls can also be extracted"
   ]
  },
  {
   "cell_type": "code",
   "execution_count": 15,
   "id": "f661f0c8",
   "metadata": {},
   "outputs": [],
   "source": [
    "#defining a function that extract the date alone out of a datetime column\n",
    "def get_day(datetime_object):\n",
    "    return datetime_object.date()\n",
    "medical_df.appointment_day = pd.to_datetime(medical_df.appointment_day)\n",
    "medical_df['lead_days'] = (medical_df.appointment_day.apply(get_day) - medical_df.scheduled_day.apply(get_day))\n",
    "medical_df.lead_days = ((medical_df.lead_days.astype('timedelta64[D]')).astype(int))\n",
    "medical_df['appointment_DOW'] = (medical_df.appointment_day.dt.dayofweek)"
   ]
  },
  {
   "cell_type": "code",
   "execution_count": 16,
   "id": "0e923d5c",
   "metadata": {},
   "outputs": [
    {
     "data": {
      "text/plain": [
       "0      38563\n",
       "2       6725\n",
       "4       5290\n",
       "1       5213\n",
       "7       4906\n",
       "       ...  \n",
       "82         1\n",
       "127        1\n",
       "126        1\n",
       "151        1\n",
       "123        1\n",
       "Name: lead_days, Length: 131, dtype: int64"
      ]
     },
     "execution_count": 16,
     "metadata": {},
     "output_type": "execute_result"
    }
   ],
   "source": [
    "medical_df['lead_days'].value_counts()"
   ]
  },
  {
   "cell_type": "code",
   "execution_count": 17,
   "id": "6fc4e079",
   "metadata": {},
   "outputs": [],
   "source": [
    "lead_days_labels = pd.Series([\n",
    "    'A: Same day',\n",
    "    'B: 1-2 days',\n",
    "    'C: 3-7 days',\n",
    "    'D: 8-31 days',\n",
    "    'E: 32+ days'\n",
    "    ])\n",
    "medical_df['lead_days_category'] = pd.cut(medical_df.lead_days, bins = [-1, 0, 2, 7, 31, 999], labels = lead_days_labels,)"
   ]
  },
  {
   "cell_type": "code",
   "execution_count": 18,
   "id": "0f1b04e1",
   "metadata": {},
   "outputs": [
    {
     "data": {
      "text/plain": [
       "AppointmentID\n",
       "5642903    A: Same day\n",
       "5642503    A: Same day\n",
       "5642549    A: Same day\n",
       "5642828    A: Same day\n",
       "5642494    A: Same day\n",
       "              ...     \n",
       "5651768    E: 32+ days\n",
       "5650093    E: 32+ days\n",
       "5630692    E: 32+ days\n",
       "5630323    E: 32+ days\n",
       "5629448    E: 32+ days\n",
       "Name: lead_days_category, Length: 110527, dtype: category\n",
       "Categories (5, object): ['A: Same day' < 'B: 1-2 days' < 'C: 3-7 days' < 'D: 8-31 days' < 'E: 32+ days']"
      ]
     },
     "execution_count": 18,
     "metadata": {},
     "output_type": "execute_result"
    }
   ],
   "source": [
    "medical_df['lead_days_category']"
   ]
  },
  {
   "cell_type": "markdown",
   "id": "99879e2a",
   "metadata": {},
   "source": [
    "Checking each column sequentially\n"
   ]
  },
  {
   "cell_type": "code",
   "execution_count": 19,
   "id": "32e25ce3",
   "metadata": {},
   "outputs": [
    {
     "data": {
      "text/plain": [
       "F    71840\n",
       "M    38687\n",
       "Name: gender, dtype: int64"
      ]
     },
     "execution_count": 19,
     "metadata": {},
     "output_type": "execute_result"
    }
   ],
   "source": [
    "medical_df['gender'].value_counts()"
   ]
  },
  {
   "cell_type": "markdown",
   "id": "377fefc2",
   "metadata": {},
   "source": [
    "It is a string data type column, where F represents Female and M represents Male. It is noteworthy that the female gender constitutes a large percent of the visits. "
   ]
  },
  {
   "cell_type": "code",
   "execution_count": 20,
   "id": "0c5df7c5",
   "metadata": {},
   "outputs": [],
   "source": [
    "medical_df['is_female'] = (medical_df.gender == 'F')"
   ]
  },
  {
   "cell_type": "code",
   "execution_count": 21,
   "id": "ac0dbe5b",
   "metadata": {},
   "outputs": [],
   "source": [
    "medical_df['is_male'] = (medical_df.gender == 'M')"
   ]
  },
  {
   "cell_type": "markdown",
   "id": "232f72fa",
   "metadata": {},
   "source": [
    "The age column will be looked at to understand the data type and values"
   ]
  },
  {
   "cell_type": "code",
   "execution_count": 22,
   "id": "fb8707a6",
   "metadata": {},
   "outputs": [
    {
     "name": "stdout",
     "output_type": "stream",
     "text": [
      "-1         1\n",
      " 0      3539\n",
      " 1      2273\n",
      " 2      1618\n",
      " 3      1513\n",
      "        ... \n",
      " 98        6\n",
      " 99        1\n",
      " 100       4\n",
      " 102       2\n",
      " 115       5\n",
      "Name: age, Length: 104, dtype: int64\n",
      "0     3539\n",
      "1     2273\n",
      "52    1746\n",
      "49    1652\n",
      "53    1651\n",
      "Name: age, dtype: int64\n"
     ]
    }
   ],
   "source": [
    "pd.options.display.max_rows = 10\n",
    "\n",
    "print(medical_df.age.value_counts().sort_index())\n",
    "print(medical_df.age.value_counts().sort_values(ascending = False).head())"
   ]
  },
  {
   "cell_type": "markdown",
   "id": "b9a4a131",
   "metadata": {},
   "source": [
    "5 appointments with age 115 were made by 2 patients. Also age -1 was found in the result, which has been explained by the dataset provider to mean an unborn baby. This brings up some confusion in the dataset and the value would be dropped"
   ]
  },
  {
   "cell_type": "code",
   "execution_count": 23,
   "id": "da371f14",
   "metadata": {},
   "outputs": [],
   "source": [
    "medical_df.drop(medical_df.loc[medical_df['age'] == -1].index, inplace = True)"
   ]
  },
  {
   "cell_type": "code",
   "execution_count": 24,
   "id": "40e7e6b0",
   "metadata": {},
   "outputs": [
    {
     "data": {
      "text/plain": [
       "0      3539\n",
       "1      2273\n",
       "52     1746\n",
       "49     1652\n",
       "53     1651\n",
       "       ... \n",
       "98        6\n",
       "115       5\n",
       "100       4\n",
       "102       2\n",
       "99        1\n",
       "Name: age, Length: 103, dtype: int64"
      ]
     },
     "execution_count": 24,
     "metadata": {},
     "output_type": "execute_result"
    }
   ],
   "source": [
    "medical_df.age.value_counts()"
   ]
  },
  {
   "cell_type": "markdown",
   "id": "01eff2b9",
   "metadata": {},
   "source": [
    "The age column can be categorized into specific categories, to properly visualize and analyze the data"
   ]
  },
  {
   "cell_type": "code",
   "execution_count": 25,
   "id": "43a9e6ef",
   "metadata": {},
   "outputs": [],
   "source": [
    "medical_df['age_group'] = (medical_df.age.apply(lambda x: min(int(x / 10) , 9)))\n"
   ]
  },
  {
   "cell_type": "markdown",
   "id": "dbab6dde",
   "metadata": {},
   "source": [
    "Columns such as SMS_received, alcholism, hypertension, diabetes and scholarship represent whether or  not the patient have these things. They are best categorized as booleans. "
   ]
  },
  {
   "cell_type": "code",
   "execution_count": 26,
   "id": "c60469b6",
   "metadata": {},
   "outputs": [],
   "source": [
    "columns_to_change = [\n",
    "    'scholarship', 'hypertension', 'diabetes', 'alcoholism', 'SMS_received'\n",
    "    ]\n",
    "for column in columns_to_change:\n",
    "    medical_df[column] = (medical_df[column] == 1)"
   ]
  },
  {
   "cell_type": "code",
   "execution_count": 27,
   "id": "43613f6b",
   "metadata": {},
   "outputs": [
    {
     "data": {
      "text/plain": [
       "0    108285\n",
       "1      2042\n",
       "2       183\n",
       "3        13\n",
       "4         3\n",
       "Name: handicap, dtype: int64"
      ]
     },
     "execution_count": 27,
     "metadata": {},
     "output_type": "execute_result"
    }
   ],
   "source": [
    "medical_df['handicap'].value_counts()"
   ]
  },
  {
   "cell_type": "markdown",
   "id": "aeba4892",
   "metadata": {},
   "source": [
    "The handicap column indicates the number of handicaps a patient's is suffering from. Since we just want to know if the patient is suffering from one Handicap or more, the handicap column will be grouped, so that values greater than 0 (presence of handicap) would be indicated as handicap's presence.\n"
   ]
  },
  {
   "cell_type": "code",
   "execution_count": 28,
   "id": "08984ebf",
   "metadata": {},
   "outputs": [],
   "source": [
    "medical_df['is_handicapped'] = (medical_df.handicap > 0)"
   ]
  },
  {
   "cell_type": "code",
   "execution_count": 61,
   "id": "af82d179",
   "metadata": {},
   "outputs": [
    {
     "data": {
      "text/plain": [
       "Index(['patient_ID', 'gender', 'scheduled_day', 'appointment_day', 'age',\n",
       "       'neighbourhood', 'scholarship', 'hypertension', 'diabetes',\n",
       "       'alcoholism', 'handicap', 'SMS_received', 'no_show',\n",
       "       'app_scheduled_hour', 'lead_days', 'appointment_DOW',\n",
       "       'lead_days_category', 'is_female', 'is_male', 'age_group',\n",
       "       'is_handicapped', 'no_show_last_time'],\n",
       "      dtype='object')"
      ]
     },
     "execution_count": 61,
     "metadata": {},
     "output_type": "execute_result"
    }
   ],
   "source": [
    "medical_df.columns"
   ]
  },
  {
   "cell_type": "code",
   "execution_count": 30,
   "id": "8deefd86",
   "metadata": {},
   "outputs": [
    {
     "data": {
      "text/plain": [
       "No     88207\n",
       "Yes    22319\n",
       "Name: no_show, dtype: int64"
      ]
     },
     "execution_count": 30,
     "metadata": {},
     "output_type": "execute_result"
    }
   ],
   "source": [
    "medical_df['no_show'].value_counts()"
   ]
  },
  {
   "cell_type": "code",
   "execution_count": 31,
   "id": "55b1ecd2",
   "metadata": {},
   "outputs": [],
   "source": [
    "#no_show conversion to boolean\n",
    "value_toreplace = {'Yes': True, 'No': False}\n",
    "medical_df['no_show'].replace(value_toreplace, inplace = True)"
   ]
  },
  {
   "cell_type": "code",
   "execution_count": 32,
   "id": "561c99d3",
   "metadata": {},
   "outputs": [
    {
     "data": {
      "text/plain": [
       "False    88207\n",
       "True     22319\n",
       "Name: no_show, dtype: int64"
      ]
     },
     "execution_count": 32,
     "metadata": {},
     "output_type": "execute_result"
    }
   ],
   "source": [
    "medical_df['no_show'].value_counts()"
   ]
  },
  {
   "cell_type": "code",
   "execution_count": 33,
   "id": "fc65ee4d",
   "metadata": {},
   "outputs": [],
   "source": [
    "medical_df = medical_df.sort_values(by = ['appointment_day', 'scheduled_day'], axis = 0)\n",
    "medical_df['no_show_last_time'] = (medical_df.groupby('patient_ID')['no_show'].apply(lambda x : x.shift(1)))"
   ]
  },
  {
   "cell_type": "code",
   "execution_count": 34,
   "id": "8676805b",
   "metadata": {},
   "outputs": [
    {
     "data": {
      "text/html": [
       "<div>\n",
       "<style scoped>\n",
       "    .dataframe tbody tr th:only-of-type {\n",
       "        vertical-align: middle;\n",
       "    }\n",
       "\n",
       "    .dataframe tbody tr th {\n",
       "        vertical-align: top;\n",
       "    }\n",
       "\n",
       "    .dataframe thead th {\n",
       "        text-align: right;\n",
       "    }\n",
       "</style>\n",
       "<table border=\"1\" class=\"dataframe\">\n",
       "  <thead>\n",
       "    <tr style=\"text-align: right;\">\n",
       "      <th></th>\n",
       "      <th>patient_ID</th>\n",
       "      <th>gender</th>\n",
       "      <th>scheduled_day</th>\n",
       "      <th>appointment_day</th>\n",
       "      <th>age</th>\n",
       "      <th>neighbourhood</th>\n",
       "      <th>scholarship</th>\n",
       "      <th>hypertension</th>\n",
       "      <th>diabetes</th>\n",
       "      <th>alcoholism</th>\n",
       "      <th>...</th>\n",
       "      <th>no_show</th>\n",
       "      <th>app_scheduled_hour</th>\n",
       "      <th>lead_days</th>\n",
       "      <th>appointment_DOW</th>\n",
       "      <th>lead_days_category</th>\n",
       "      <th>is_female</th>\n",
       "      <th>is_male</th>\n",
       "      <th>age_group</th>\n",
       "      <th>is_handicapped</th>\n",
       "      <th>no_show_last_time</th>\n",
       "    </tr>\n",
       "    <tr>\n",
       "      <th>AppointmentID</th>\n",
       "      <th></th>\n",
       "      <th></th>\n",
       "      <th></th>\n",
       "      <th></th>\n",
       "      <th></th>\n",
       "      <th></th>\n",
       "      <th></th>\n",
       "      <th></th>\n",
       "      <th></th>\n",
       "      <th></th>\n",
       "      <th></th>\n",
       "      <th></th>\n",
       "      <th></th>\n",
       "      <th></th>\n",
       "      <th></th>\n",
       "      <th></th>\n",
       "      <th></th>\n",
       "      <th></th>\n",
       "      <th></th>\n",
       "      <th></th>\n",
       "      <th></th>\n",
       "    </tr>\n",
       "  </thead>\n",
       "  <tbody>\n",
       "    <tr>\n",
       "      <th>5217179</th>\n",
       "      <td>1.423329e+12</td>\n",
       "      <td>M</td>\n",
       "      <td>2016-01-05 11:53:44+00:00</td>\n",
       "      <td>2016-04-29 00:00:00+00:00</td>\n",
       "      <td>84</td>\n",
       "      <td>SANTO ANDRÉ</td>\n",
       "      <td>False</td>\n",
       "      <td>True</td>\n",
       "      <td>True</td>\n",
       "      <td>False</td>\n",
       "      <td>...</td>\n",
       "      <td>False</td>\n",
       "      <td>11</td>\n",
       "      <td>115</td>\n",
       "      <td>4</td>\n",
       "      <td>E: 32+ days</td>\n",
       "      <td>False</td>\n",
       "      <td>True</td>\n",
       "      <td>8</td>\n",
       "      <td>True</td>\n",
       "      <td>NaN</td>\n",
       "    </tr>\n",
       "    <tr>\n",
       "      <th>5218520</th>\n",
       "      <td>4.616858e+12</td>\n",
       "      <td>F</td>\n",
       "      <td>2016-01-05 15:02:46+00:00</td>\n",
       "      <td>2016-04-29 00:00:00+00:00</td>\n",
       "      <td>83</td>\n",
       "      <td>REDENÇÃO</td>\n",
       "      <td>False</td>\n",
       "      <td>True</td>\n",
       "      <td>False</td>\n",
       "      <td>False</td>\n",
       "      <td>...</td>\n",
       "      <td>False</td>\n",
       "      <td>15</td>\n",
       "      <td>115</td>\n",
       "      <td>4</td>\n",
       "      <td>E: 32+ days</td>\n",
       "      <td>True</td>\n",
       "      <td>False</td>\n",
       "      <td>8</td>\n",
       "      <td>False</td>\n",
       "      <td>NaN</td>\n",
       "    </tr>\n",
       "    <tr>\n",
       "      <th>5235449</th>\n",
       "      <td>5.558963e+13</td>\n",
       "      <td>F</td>\n",
       "      <td>2016-01-11 08:52:35+00:00</td>\n",
       "      <td>2016-04-29 00:00:00+00:00</td>\n",
       "      <td>74</td>\n",
       "      <td>MONTE BELO</td>\n",
       "      <td>False</td>\n",
       "      <td>False</td>\n",
       "      <td>False</td>\n",
       "      <td>False</td>\n",
       "      <td>...</td>\n",
       "      <td>False</td>\n",
       "      <td>8</td>\n",
       "      <td>109</td>\n",
       "      <td>4</td>\n",
       "      <td>E: 32+ days</td>\n",
       "      <td>True</td>\n",
       "      <td>False</td>\n",
       "      <td>7</td>\n",
       "      <td>False</td>\n",
       "      <td>NaN</td>\n",
       "    </tr>\n",
       "    <tr>\n",
       "      <th>5235643</th>\n",
       "      <td>9.189694e+13</td>\n",
       "      <td>F</td>\n",
       "      <td>2016-01-11 09:08:10+00:00</td>\n",
       "      <td>2016-04-29 00:00:00+00:00</td>\n",
       "      <td>70</td>\n",
       "      <td>GURIGICA</td>\n",
       "      <td>False</td>\n",
       "      <td>True</td>\n",
       "      <td>True</td>\n",
       "      <td>False</td>\n",
       "      <td>...</td>\n",
       "      <td>False</td>\n",
       "      <td>9</td>\n",
       "      <td>109</td>\n",
       "      <td>4</td>\n",
       "      <td>E: 32+ days</td>\n",
       "      <td>True</td>\n",
       "      <td>False</td>\n",
       "      <td>7</td>\n",
       "      <td>False</td>\n",
       "      <td>NaN</td>\n",
       "    </tr>\n",
       "    <tr>\n",
       "      <th>5235655</th>\n",
       "      <td>1.534482e+12</td>\n",
       "      <td>F</td>\n",
       "      <td>2016-01-11 09:09:10+00:00</td>\n",
       "      <td>2016-04-29 00:00:00+00:00</td>\n",
       "      <td>87</td>\n",
       "      <td>JUCUTUQUARA</td>\n",
       "      <td>False</td>\n",
       "      <td>False</td>\n",
       "      <td>False</td>\n",
       "      <td>False</td>\n",
       "      <td>...</td>\n",
       "      <td>False</td>\n",
       "      <td>9</td>\n",
       "      <td>109</td>\n",
       "      <td>4</td>\n",
       "      <td>E: 32+ days</td>\n",
       "      <td>True</td>\n",
       "      <td>False</td>\n",
       "      <td>8</td>\n",
       "      <td>False</td>\n",
       "      <td>NaN</td>\n",
       "    </tr>\n",
       "    <tr>\n",
       "      <th>5236116</th>\n",
       "      <td>3.136481e+14</td>\n",
       "      <td>M</td>\n",
       "      <td>2016-01-11 09:57:10+00:00</td>\n",
       "      <td>2016-04-29 00:00:00+00:00</td>\n",
       "      <td>71</td>\n",
       "      <td>REDENÇÃO</td>\n",
       "      <td>False</td>\n",
       "      <td>True</td>\n",
       "      <td>True</td>\n",
       "      <td>False</td>\n",
       "      <td>...</td>\n",
       "      <td>False</td>\n",
       "      <td>9</td>\n",
       "      <td>109</td>\n",
       "      <td>4</td>\n",
       "      <td>E: 32+ days</td>\n",
       "      <td>False</td>\n",
       "      <td>True</td>\n",
       "      <td>7</td>\n",
       "      <td>False</td>\n",
       "      <td>NaN</td>\n",
       "    </tr>\n",
       "    <tr>\n",
       "      <th>5236380</th>\n",
       "      <td>1.596183e+14</td>\n",
       "      <td>F</td>\n",
       "      <td>2016-01-11 10:20:41+00:00</td>\n",
       "      <td>2016-04-29 00:00:00+00:00</td>\n",
       "      <td>88</td>\n",
       "      <td>PRAIA DO CANTO</td>\n",
       "      <td>False</td>\n",
       "      <td>True</td>\n",
       "      <td>False</td>\n",
       "      <td>False</td>\n",
       "      <td>...</td>\n",
       "      <td>False</td>\n",
       "      <td>10</td>\n",
       "      <td>109</td>\n",
       "      <td>4</td>\n",
       "      <td>E: 32+ days</td>\n",
       "      <td>True</td>\n",
       "      <td>False</td>\n",
       "      <td>8</td>\n",
       "      <td>False</td>\n",
       "      <td>NaN</td>\n",
       "    </tr>\n",
       "    <tr>\n",
       "      <th>5303666</th>\n",
       "      <td>9.646768e+13</td>\n",
       "      <td>F</td>\n",
       "      <td>2016-01-29 08:41:23+00:00</td>\n",
       "      <td>2016-04-29 00:00:00+00:00</td>\n",
       "      <td>1</td>\n",
       "      <td>RESISTÊNCIA</td>\n",
       "      <td>False</td>\n",
       "      <td>False</td>\n",
       "      <td>False</td>\n",
       "      <td>False</td>\n",
       "      <td>...</td>\n",
       "      <td>False</td>\n",
       "      <td>8</td>\n",
       "      <td>91</td>\n",
       "      <td>4</td>\n",
       "      <td>E: 32+ days</td>\n",
       "      <td>True</td>\n",
       "      <td>False</td>\n",
       "      <td>0</td>\n",
       "      <td>False</td>\n",
       "      <td>NaN</td>\n",
       "    </tr>\n",
       "    <tr>\n",
       "      <th>5304747</th>\n",
       "      <td>7.437646e+14</td>\n",
       "      <td>M</td>\n",
       "      <td>2016-01-29 10:46:47+00:00</td>\n",
       "      <td>2016-04-29 00:00:00+00:00</td>\n",
       "      <td>48</td>\n",
       "      <td>MARUÍPE</td>\n",
       "      <td>False</td>\n",
       "      <td>True</td>\n",
       "      <td>False</td>\n",
       "      <td>False</td>\n",
       "      <td>...</td>\n",
       "      <td>False</td>\n",
       "      <td>10</td>\n",
       "      <td>91</td>\n",
       "      <td>4</td>\n",
       "      <td>E: 32+ days</td>\n",
       "      <td>False</td>\n",
       "      <td>True</td>\n",
       "      <td>4</td>\n",
       "      <td>False</td>\n",
       "      <td>NaN</td>\n",
       "    </tr>\n",
       "    <tr>\n",
       "      <th>5317449</th>\n",
       "      <td>7.414865e+12</td>\n",
       "      <td>F</td>\n",
       "      <td>2016-02-02 13:25:44+00:00</td>\n",
       "      <td>2016-04-29 00:00:00+00:00</td>\n",
       "      <td>77</td>\n",
       "      <td>JESUS DE NAZARETH</td>\n",
       "      <td>False</td>\n",
       "      <td>True</td>\n",
       "      <td>False</td>\n",
       "      <td>False</td>\n",
       "      <td>...</td>\n",
       "      <td>True</td>\n",
       "      <td>13</td>\n",
       "      <td>87</td>\n",
       "      <td>4</td>\n",
       "      <td>E: 32+ days</td>\n",
       "      <td>True</td>\n",
       "      <td>False</td>\n",
       "      <td>7</td>\n",
       "      <td>False</td>\n",
       "      <td>NaN</td>\n",
       "    </tr>\n",
       "  </tbody>\n",
       "</table>\n",
       "<p>10 rows × 22 columns</p>\n",
       "</div>"
      ],
      "text/plain": [
       "                 patient_ID gender             scheduled_day  \\\n",
       "AppointmentID                                                  \n",
       "5217179        1.423329e+12      M 2016-01-05 11:53:44+00:00   \n",
       "5218520        4.616858e+12      F 2016-01-05 15:02:46+00:00   \n",
       "5235449        5.558963e+13      F 2016-01-11 08:52:35+00:00   \n",
       "5235643        9.189694e+13      F 2016-01-11 09:08:10+00:00   \n",
       "5235655        1.534482e+12      F 2016-01-11 09:09:10+00:00   \n",
       "5236116        3.136481e+14      M 2016-01-11 09:57:10+00:00   \n",
       "5236380        1.596183e+14      F 2016-01-11 10:20:41+00:00   \n",
       "5303666        9.646768e+13      F 2016-01-29 08:41:23+00:00   \n",
       "5304747        7.437646e+14      M 2016-01-29 10:46:47+00:00   \n",
       "5317449        7.414865e+12      F 2016-02-02 13:25:44+00:00   \n",
       "\n",
       "                        appointment_day  age      neighbourhood  scholarship  \\\n",
       "AppointmentID                                                                  \n",
       "5217179       2016-04-29 00:00:00+00:00   84        SANTO ANDRÉ        False   \n",
       "5218520       2016-04-29 00:00:00+00:00   83           REDENÇÃO        False   \n",
       "5235449       2016-04-29 00:00:00+00:00   74         MONTE BELO        False   \n",
       "5235643       2016-04-29 00:00:00+00:00   70           GURIGICA        False   \n",
       "5235655       2016-04-29 00:00:00+00:00   87        JUCUTUQUARA        False   \n",
       "5236116       2016-04-29 00:00:00+00:00   71           REDENÇÃO        False   \n",
       "5236380       2016-04-29 00:00:00+00:00   88     PRAIA DO CANTO        False   \n",
       "5303666       2016-04-29 00:00:00+00:00    1        RESISTÊNCIA        False   \n",
       "5304747       2016-04-29 00:00:00+00:00   48            MARUÍPE        False   \n",
       "5317449       2016-04-29 00:00:00+00:00   77  JESUS DE NAZARETH        False   \n",
       "\n",
       "               hypertension  diabetes  alcoholism  ...  no_show  \\\n",
       "AppointmentID                                      ...            \n",
       "5217179                True      True       False  ...    False   \n",
       "5218520                True     False       False  ...    False   \n",
       "5235449               False     False       False  ...    False   \n",
       "5235643                True      True       False  ...    False   \n",
       "5235655               False     False       False  ...    False   \n",
       "5236116                True      True       False  ...    False   \n",
       "5236380                True     False       False  ...    False   \n",
       "5303666               False     False       False  ...    False   \n",
       "5304747                True     False       False  ...    False   \n",
       "5317449                True     False       False  ...     True   \n",
       "\n",
       "               app_scheduled_hour  lead_days  appointment_DOW  \\\n",
       "AppointmentID                                                   \n",
       "5217179                        11        115                4   \n",
       "5218520                        15        115                4   \n",
       "5235449                         8        109                4   \n",
       "5235643                         9        109                4   \n",
       "5235655                         9        109                4   \n",
       "5236116                         9        109                4   \n",
       "5236380                        10        109                4   \n",
       "5303666                         8         91                4   \n",
       "5304747                        10         91                4   \n",
       "5317449                        13         87                4   \n",
       "\n",
       "               lead_days_category  is_female is_male  age_group  \\\n",
       "AppointmentID                                                     \n",
       "5217179               E: 32+ days      False    True          8   \n",
       "5218520               E: 32+ days       True   False          8   \n",
       "5235449               E: 32+ days       True   False          7   \n",
       "5235643               E: 32+ days       True   False          7   \n",
       "5235655               E: 32+ days       True   False          8   \n",
       "5236116               E: 32+ days      False    True          7   \n",
       "5236380               E: 32+ days       True   False          8   \n",
       "5303666               E: 32+ days       True   False          0   \n",
       "5304747               E: 32+ days      False    True          4   \n",
       "5317449               E: 32+ days       True   False          7   \n",
       "\n",
       "               is_handicapped  no_show_last_time  \n",
       "AppointmentID                                     \n",
       "5217179                  True                NaN  \n",
       "5218520                 False                NaN  \n",
       "5235449                 False                NaN  \n",
       "5235643                 False                NaN  \n",
       "5235655                 False                NaN  \n",
       "5236116                 False                NaN  \n",
       "5236380                 False                NaN  \n",
       "5303666                 False                NaN  \n",
       "5304747                 False                NaN  \n",
       "5317449                 False                NaN  \n",
       "\n",
       "[10 rows x 22 columns]"
      ]
     },
     "execution_count": 34,
     "metadata": {},
     "output_type": "execute_result"
    }
   ],
   "source": [
    "medical_df.head(10)"
   ]
  },
  {
   "cell_type": "code",
   "execution_count": 35,
   "id": "2f19682b",
   "metadata": {},
   "outputs": [
    {
     "data": {
      "text/html": [
       "<div>\n",
       "<style scoped>\n",
       "    .dataframe tbody tr th:only-of-type {\n",
       "        vertical-align: middle;\n",
       "    }\n",
       "\n",
       "    .dataframe tbody tr th {\n",
       "        vertical-align: top;\n",
       "    }\n",
       "\n",
       "    .dataframe thead th {\n",
       "        text-align: right;\n",
       "    }\n",
       "</style>\n",
       "<table border=\"1\" class=\"dataframe\">\n",
       "  <thead>\n",
       "    <tr style=\"text-align: right;\">\n",
       "      <th></th>\n",
       "      <th>patient_ID</th>\n",
       "      <th>gender</th>\n",
       "      <th>scheduled_day</th>\n",
       "      <th>appointment_day</th>\n",
       "      <th>age</th>\n",
       "      <th>neighbourhood</th>\n",
       "      <th>scholarship</th>\n",
       "      <th>hypertension</th>\n",
       "      <th>diabetes</th>\n",
       "      <th>alcoholism</th>\n",
       "      <th>...</th>\n",
       "      <th>no_show</th>\n",
       "      <th>app_scheduled_hour</th>\n",
       "      <th>lead_days</th>\n",
       "      <th>appointment_DOW</th>\n",
       "      <th>lead_days_category</th>\n",
       "      <th>is_female</th>\n",
       "      <th>is_male</th>\n",
       "      <th>age_group</th>\n",
       "      <th>is_handicapped</th>\n",
       "      <th>no_show_last_time</th>\n",
       "    </tr>\n",
       "    <tr>\n",
       "      <th>AppointmentID</th>\n",
       "      <th></th>\n",
       "      <th></th>\n",
       "      <th></th>\n",
       "      <th></th>\n",
       "      <th></th>\n",
       "      <th></th>\n",
       "      <th></th>\n",
       "      <th></th>\n",
       "      <th></th>\n",
       "      <th></th>\n",
       "      <th></th>\n",
       "      <th></th>\n",
       "      <th></th>\n",
       "      <th></th>\n",
       "      <th></th>\n",
       "      <th></th>\n",
       "      <th></th>\n",
       "      <th></th>\n",
       "      <th></th>\n",
       "      <th></th>\n",
       "      <th></th>\n",
       "    </tr>\n",
       "  </thead>\n",
       "  <tbody>\n",
       "    <tr>\n",
       "      <th>5655637</th>\n",
       "      <td>3.787482e+12</td>\n",
       "      <td>M</td>\n",
       "      <td>2016-05-04 06:50:57+00:00</td>\n",
       "      <td>2016-05-03 00:00:00+00:00</td>\n",
       "      <td>7</td>\n",
       "      <td>TABUAZEIRO</td>\n",
       "      <td>False</td>\n",
       "      <td>False</td>\n",
       "      <td>False</td>\n",
       "      <td>False</td>\n",
       "      <td>...</td>\n",
       "      <td>True</td>\n",
       "      <td>6</td>\n",
       "      <td>-1</td>\n",
       "      <td>1</td>\n",
       "      <td>NaN</td>\n",
       "      <td>False</td>\n",
       "      <td>True</td>\n",
       "      <td>0</td>\n",
       "      <td>False</td>\n",
       "      <td>NaN</td>\n",
       "    </tr>\n",
       "    <tr>\n",
       "      <th>5664962</th>\n",
       "      <td>2.425226e+13</td>\n",
       "      <td>F</td>\n",
       "      <td>2016-05-05 13:43:58+00:00</td>\n",
       "      <td>2016-05-04 00:00:00+00:00</td>\n",
       "      <td>22</td>\n",
       "      <td>CONSOLAÇÃO</td>\n",
       "      <td>False</td>\n",
       "      <td>False</td>\n",
       "      <td>False</td>\n",
       "      <td>False</td>\n",
       "      <td>...</td>\n",
       "      <td>True</td>\n",
       "      <td>13</td>\n",
       "      <td>-1</td>\n",
       "      <td>2</td>\n",
       "      <td>NaN</td>\n",
       "      <td>True</td>\n",
       "      <td>False</td>\n",
       "      <td>2</td>\n",
       "      <td>False</td>\n",
       "      <td>NaN</td>\n",
       "    </tr>\n",
       "    <tr>\n",
       "      <th>5686628</th>\n",
       "      <td>9.982316e+14</td>\n",
       "      <td>F</td>\n",
       "      <td>2016-05-11 13:49:20+00:00</td>\n",
       "      <td>2016-05-05 00:00:00+00:00</td>\n",
       "      <td>81</td>\n",
       "      <td>SANTO ANTÔNIO</td>\n",
       "      <td>False</td>\n",
       "      <td>False</td>\n",
       "      <td>False</td>\n",
       "      <td>False</td>\n",
       "      <td>...</td>\n",
       "      <td>True</td>\n",
       "      <td>13</td>\n",
       "      <td>-6</td>\n",
       "      <td>3</td>\n",
       "      <td>NaN</td>\n",
       "      <td>True</td>\n",
       "      <td>False</td>\n",
       "      <td>8</td>\n",
       "      <td>False</td>\n",
       "      <td>True</td>\n",
       "    </tr>\n",
       "    <tr>\n",
       "      <th>5679978</th>\n",
       "      <td>7.839273e+12</td>\n",
       "      <td>M</td>\n",
       "      <td>2016-05-10 10:51:53+00:00</td>\n",
       "      <td>2016-05-09 00:00:00+00:00</td>\n",
       "      <td>38</td>\n",
       "      <td>RESISTÊNCIA</td>\n",
       "      <td>False</td>\n",
       "      <td>False</td>\n",
       "      <td>False</td>\n",
       "      <td>False</td>\n",
       "      <td>...</td>\n",
       "      <td>True</td>\n",
       "      <td>10</td>\n",
       "      <td>-1</td>\n",
       "      <td>0</td>\n",
       "      <td>NaN</td>\n",
       "      <td>False</td>\n",
       "      <td>True</td>\n",
       "      <td>3</td>\n",
       "      <td>True</td>\n",
       "      <td>NaN</td>\n",
       "    </tr>\n",
       "    <tr>\n",
       "      <th>5715660</th>\n",
       "      <td>7.896294e+12</td>\n",
       "      <td>F</td>\n",
       "      <td>2016-05-18 14:50:41+00:00</td>\n",
       "      <td>2016-05-17 00:00:00+00:00</td>\n",
       "      <td>19</td>\n",
       "      <td>SANTO ANTÔNIO</td>\n",
       "      <td>False</td>\n",
       "      <td>False</td>\n",
       "      <td>False</td>\n",
       "      <td>False</td>\n",
       "      <td>...</td>\n",
       "      <td>True</td>\n",
       "      <td>14</td>\n",
       "      <td>-1</td>\n",
       "      <td>1</td>\n",
       "      <td>NaN</td>\n",
       "      <td>True</td>\n",
       "      <td>False</td>\n",
       "      <td>1</td>\n",
       "      <td>True</td>\n",
       "      <td>False</td>\n",
       "    </tr>\n",
       "  </tbody>\n",
       "</table>\n",
       "<p>5 rows × 22 columns</p>\n",
       "</div>"
      ],
      "text/plain": [
       "                 patient_ID gender             scheduled_day  \\\n",
       "AppointmentID                                                  \n",
       "5655637        3.787482e+12      M 2016-05-04 06:50:57+00:00   \n",
       "5664962        2.425226e+13      F 2016-05-05 13:43:58+00:00   \n",
       "5686628        9.982316e+14      F 2016-05-11 13:49:20+00:00   \n",
       "5679978        7.839273e+12      M 2016-05-10 10:51:53+00:00   \n",
       "5715660        7.896294e+12      F 2016-05-18 14:50:41+00:00   \n",
       "\n",
       "                        appointment_day  age  neighbourhood  scholarship  \\\n",
       "AppointmentID                                                              \n",
       "5655637       2016-05-03 00:00:00+00:00    7     TABUAZEIRO        False   \n",
       "5664962       2016-05-04 00:00:00+00:00   22     CONSOLAÇÃO        False   \n",
       "5686628       2016-05-05 00:00:00+00:00   81  SANTO ANTÔNIO        False   \n",
       "5679978       2016-05-09 00:00:00+00:00   38    RESISTÊNCIA        False   \n",
       "5715660       2016-05-17 00:00:00+00:00   19  SANTO ANTÔNIO        False   \n",
       "\n",
       "               hypertension  diabetes  alcoholism  ...  no_show  \\\n",
       "AppointmentID                                      ...            \n",
       "5655637               False     False       False  ...     True   \n",
       "5664962               False     False       False  ...     True   \n",
       "5686628               False     False       False  ...     True   \n",
       "5679978               False     False       False  ...     True   \n",
       "5715660               False     False       False  ...     True   \n",
       "\n",
       "               app_scheduled_hour  lead_days  appointment_DOW  \\\n",
       "AppointmentID                                                   \n",
       "5655637                         6         -1                1   \n",
       "5664962                        13         -1                2   \n",
       "5686628                        13         -6                3   \n",
       "5679978                        10         -1                0   \n",
       "5715660                        14         -1                1   \n",
       "\n",
       "               lead_days_category  is_female is_male  age_group  \\\n",
       "AppointmentID                                                     \n",
       "5655637                       NaN      False    True          0   \n",
       "5664962                       NaN       True   False          2   \n",
       "5686628                       NaN       True   False          8   \n",
       "5679978                       NaN      False    True          3   \n",
       "5715660                       NaN       True   False          1   \n",
       "\n",
       "               is_handicapped  no_show_last_time  \n",
       "AppointmentID                                     \n",
       "5655637                 False                NaN  \n",
       "5664962                 False                NaN  \n",
       "5686628                 False               True  \n",
       "5679978                  True                NaN  \n",
       "5715660                  True              False  \n",
       "\n",
       "[5 rows x 22 columns]"
      ]
     },
     "execution_count": 35,
     "metadata": {},
     "output_type": "execute_result"
    }
   ],
   "source": [
    "#for appointment days earlier than scheduled day\n",
    "medical_df[medical_df.lead_days < 0]\n"
   ]
  },
  {
   "cell_type": "markdown",
   "id": "ae551f25",
   "metadata": {},
   "source": [
    "There are five rows with this anomaly. This shouldn't be part of the data for the analysis, as it is improper to schedule an appointment for dates in the past. "
   ]
  },
  {
   "cell_type": "code",
   "execution_count": 37,
   "id": "53f79fb3",
   "metadata": {},
   "outputs": [],
   "source": [
    "medical_df.drop(medical_df[medical_df.lead_days < 0].index, inplace = True)"
   ]
  },
  {
   "cell_type": "markdown",
   "id": "ce06ccbe",
   "metadata": {},
   "source": [
    "Exploratory data analysis, trying to find relationships between the dattasets attributes contributing to why patients showed up or not."
   ]
  },
  {
   "cell_type": "code",
   "execution_count": 40,
   "id": "661c3f93",
   "metadata": {},
   "outputs": [
    {
     "data": {
      "image/png": "[encoded data removed]",
      "text/plain": [
       "<Figure size 1008x1152 with 9 Axes>"
      ]
     },
     "metadata": {
      "needs_background": "light"
     },
     "output_type": "display_data"
    }
   ],
   "source": [
    "medical_df.hist(figsize=[14,16]);"
   ]
  },
  {
   "cell_type": "code",
   "execution_count": 43,
   "id": "fc58a0c0",
   "metadata": {},
   "outputs": [
    {
     "data": {
      "text/html": [
       "<div>\n",
       "<style scoped>\n",
       "    .dataframe tbody tr th:only-of-type {\n",
       "        vertical-align: middle;\n",
       "    }\n",
       "\n",
       "    .dataframe tbody tr th {\n",
       "        vertical-align: top;\n",
       "    }\n",
       "\n",
       "    .dataframe thead th {\n",
       "        text-align: right;\n",
       "    }\n",
       "</style>\n",
       "<table border=\"1\" class=\"dataframe\">\n",
       "  <thead>\n",
       "    <tr style=\"text-align: right;\">\n",
       "      <th></th>\n",
       "      <th>patient_ID</th>\n",
       "      <th>age</th>\n",
       "      <th>handicap</th>\n",
       "      <th>app_scheduled_hour</th>\n",
       "      <th>lead_days</th>\n",
       "      <th>appointment_DOW</th>\n",
       "      <th>age_group</th>\n",
       "    </tr>\n",
       "  </thead>\n",
       "  <tbody>\n",
       "    <tr>\n",
       "      <th>count</th>\n",
       "      <td>1.105210e+05</td>\n",
       "      <td>110521.000000</td>\n",
       "      <td>110521.000000</td>\n",
       "      <td>110521.000000</td>\n",
       "      <td>110521.000000</td>\n",
       "      <td>110521.000000</td>\n",
       "      <td>110521.000000</td>\n",
       "    </tr>\n",
       "    <tr>\n",
       "      <th>mean</th>\n",
       "      <td>1.474906e+14</td>\n",
       "      <td>37.089386</td>\n",
       "      <td>0.022231</td>\n",
       "      <td>10.774522</td>\n",
       "      <td>10.184345</td>\n",
       "      <td>1.858280</td>\n",
       "      <td>3.276291</td>\n",
       "    </tr>\n",
       "    <tr>\n",
       "      <th>std</th>\n",
       "      <td>2.560860e+14</td>\n",
       "      <td>23.109885</td>\n",
       "      <td>0.161494</td>\n",
       "      <td>3.216204</td>\n",
       "      <td>15.255153</td>\n",
       "      <td>1.371677</td>\n",
       "      <td>2.295555</td>\n",
       "    </tr>\n",
       "    <tr>\n",
       "      <th>min</th>\n",
       "      <td>3.921784e+04</td>\n",
       "      <td>0.000000</td>\n",
       "      <td>0.000000</td>\n",
       "      <td>6.000000</td>\n",
       "      <td>0.000000</td>\n",
       "      <td>0.000000</td>\n",
       "      <td>0.000000</td>\n",
       "    </tr>\n",
       "    <tr>\n",
       "      <th>25%</th>\n",
       "      <td>4.172457e+12</td>\n",
       "      <td>18.000000</td>\n",
       "      <td>0.000000</td>\n",
       "      <td>8.000000</td>\n",
       "      <td>0.000000</td>\n",
       "      <td>1.000000</td>\n",
       "      <td>1.000000</td>\n",
       "    </tr>\n",
       "    <tr>\n",
       "      <th>50%</th>\n",
       "      <td>3.173185e+13</td>\n",
       "      <td>37.000000</td>\n",
       "      <td>0.000000</td>\n",
       "      <td>10.000000</td>\n",
       "      <td>4.000000</td>\n",
       "      <td>2.000000</td>\n",
       "      <td>3.000000</td>\n",
       "    </tr>\n",
       "    <tr>\n",
       "      <th>75%</th>\n",
       "      <td>9.438963e+13</td>\n",
       "      <td>55.000000</td>\n",
       "      <td>0.000000</td>\n",
       "      <td>13.000000</td>\n",
       "      <td>15.000000</td>\n",
       "      <td>3.000000</td>\n",
       "      <td>5.000000</td>\n",
       "    </tr>\n",
       "    <tr>\n",
       "      <th>max</th>\n",
       "      <td>9.999816e+14</td>\n",
       "      <td>115.000000</td>\n",
       "      <td>4.000000</td>\n",
       "      <td>21.000000</td>\n",
       "      <td>179.000000</td>\n",
       "      <td>5.000000</td>\n",
       "      <td>9.000000</td>\n",
       "    </tr>\n",
       "  </tbody>\n",
       "</table>\n",
       "</div>"
      ],
      "text/plain": [
       "         patient_ID            age       handicap  app_scheduled_hour  \\\n",
       "count  1.105210e+05  110521.000000  110521.000000       110521.000000   \n",
       "mean   1.474906e+14      37.089386       0.022231           10.774522   \n",
       "std    2.560860e+14      23.109885       0.161494            3.216204   \n",
       "min    3.921784e+04       0.000000       0.000000            6.000000   \n",
       "25%    4.172457e+12      18.000000       0.000000            8.000000   \n",
       "50%    3.173185e+13      37.000000       0.000000           10.000000   \n",
       "75%    9.438963e+13      55.000000       0.000000           13.000000   \n",
       "max    9.999816e+14     115.000000       4.000000           21.000000   \n",
       "\n",
       "           lead_days  appointment_DOW      age_group  \n",
       "count  110521.000000    110521.000000  110521.000000  \n",
       "mean       10.184345         1.858280       3.276291  \n",
       "std        15.255153         1.371677       2.295555  \n",
       "min         0.000000         0.000000       0.000000  \n",
       "25%         0.000000         1.000000       1.000000  \n",
       "50%         4.000000         2.000000       3.000000  \n",
       "75%        15.000000         3.000000       5.000000  \n",
       "max       179.000000         5.000000       9.000000  "
      ]
     },
     "execution_count": 43,
     "metadata": {},
     "output_type": "execute_result"
    }
   ],
   "source": [
    "medical_df.describe()"
   ]
  },
  {
   "cell_type": "markdown",
   "id": "2020ea50",
   "metadata": {},
   "source": [
    "From the charts and the table, the mean age of the patients is 37 years and the oldest patient age is 115 years old. "
   ]
  },
  {
   "cell_type": "code",
   "execution_count": 62,
   "id": "089a79d5",
   "metadata": {},
   "outputs": [],
   "source": [
    "def compare_by_column(df, column_name):\n",
    "    '''\n",
    "    Returns comparison_df and the overall no-show rate for a single column.\n",
    "    \n",
    "    This function takes in a datraframe and a column name within it, \n",
    "    and returns another dataframe with the frequencies of all the\n",
    "    possible values in that column by show up status, as well as the\n",
    "    percentage of no shows, for use in the plot_no_show_rates(comparison_df)\n",
    "    function. Also returns the overall no-show rate of the df.\n",
    "    The column can have more than 2 values.\n",
    "    '''\n",
    "    comparison_df = pd.DataFrame()\n",
    "    comparison_df['no_show'] = (\n",
    "        df[df.no_show == True][column_name].value_counts()\n",
    "        )\n",
    "    comparison_df['show_up'] = (\n",
    "        df[df.no_show == False][column_name].value_counts()\n",
    "        )\n",
    "    # In case some for column_name values, there isn't a single True or\n",
    "    # a single False in no_show, they'll come up as NaN in the \n",
    "    # comparison_df. We fill those with zeros.\n",
    "    comparison_df = comparison_df.fillna(0)\n",
    "    comparison_df['sample_size'] = comparison_df.no_show + comparison_df.show_up\n",
    "    comparison_df['no_show_rate'] = (\n",
    "        comparison_df.no_show / (comparison_df.no_show + comparison_df.show_up)\n",
    "        )\n",
    "    comparison_df.sort_index(inplace = True)\n",
    "    comparison_df.name = column_name\n",
    "    overall_no_show_rate = (\n",
    "        comparison_df.no_show.sum() / comparison_df.sample_size.sum()\n",
    "        )\n",
    "    return (comparison_df, overall_no_show_rate)\n",
    "\n",
    "def compare_by_multiple_booleans(df, column_list):\n",
    "    '''\n",
    "    Returns a comparison_df for a list of boolean columns and the overall\n",
    "    no-show rate.\n",
    "    \n",
    "    Takes a dataframe and a list of column names, returns a comparison_df for\n",
    "    use in the plot_no_show_rates(comparison_df) function, together with an\n",
    "    overall no-show rate of the df. The columns have to be boolean.\n",
    "    \n",
    "    '''\n",
    "    comparison_df = (pd.DataFrame(columns = [\n",
    "        'no_show', 'show_up', 'sample_size', 'no_show_rate'\n",
    "        ]))\n",
    "    # loop through the columns (of the input df), do the no-show counts for \n",
    "    # each of the column values True and False\n",
    "    # Then get the sample_size and no_show_rate\n",
    "    # Then put those numbers as a row in the comparison_df for output\n",
    "    for column in column_list:\n",
    "        no_show_count = len(df[df[column] & df['no_show']])\n",
    "        show_up_count = len(df[df[column] & (~ df['no_show'])])\n",
    "        sample_size = no_show_count + show_up_count\n",
    "        no_show_rate = no_show_count / (no_show_count + show_up_count)\n",
    "        comparison_df.loc[column] = ([\n",
    "            no_show_count, show_up_count, sample_size, no_show_rate\n",
    "            ])\n",
    "    comparison_df[['no_show', 'show_up', 'sample_size']] = (\n",
    "        comparison_df[['no_show', 'show_up', 'sample_size']].astype(int)\n",
    "        )\n",
    "    overall_no_show_rate = len(df[df.no_show]) / len(df)\n",
    "    comparison_df.name = 'patient attributes'\n",
    "    return comparison_df, overall_no_show_rate"
   ]
  },
  {
   "cell_type": "code",
   "execution_count": 68,
   "id": "297eab0f",
   "metadata": {},
   "outputs": [],
   "source": [
    "def plot_no_show_rates(\n",
    "    comparison_df, overall_no_show_rate, graph_width, graph_height,\n",
    "    title_suffix = None\n",
    "    ):\n",
    "    '''\n",
    "    Plot the no-show rates in a horizontal bars.\n",
    "    \n",
    "    Takes in a comparison_df and the overall_no_show_rate. \n",
    "    graph_width and graph_height are the width and height of the graph. \n",
    "    title_suffix is an optional string appended to the end of the default\n",
    "    graph title\n",
    "    '''\n",
    "    fig = plt.figure(figsize=(graph_width, graph_height))\n",
    "    ax = fig.add_subplot(111)\n",
    "    height = 0.4\n",
    "    bins = np.arange(len(comparison_df.index))\n",
    "    bars = ax.barh(\n",
    "        bins, comparison_df.no_show_rate.values, height, align = 'center',\n",
    "        color = 'blue'\n",
    "        )\n",
    "    \n",
    "    # Add a vertical line indicating the overall no-show rates\n",
    "    y1 = - (height / 2)\n",
    "    y2 = len(bins) - 1 + (height / 2)\n",
    "    x = overall_no_show_rate\n",
    "    overall_line = ax.plot(\n",
    "        (x, x), (y1, y2), color = 'yellow', label = 'Overall no-show rate'\n",
    "        )\n",
    "    ax.legend(handles = overall_line)\n",
    "    \n",
    "    # Labels and title. Title suffix is appended here if not none.\n",
    "    ax.set_xlabel('No-show rates')\n",
    "    ax.set_ylabel(comparison_df.name + ' (n=sample size)')\n",
    "    ax.set_title('No-show rates by ' + comparison_df.name)\n",
    "    if title_suffix is None:\n",
    "        ax.set_title(''.join(['No-show rates by ', comparison_df.name]))\n",
    "    else:\n",
    "        ax.set_title(''.join(['No-show rates by ', comparison_df.name,\n",
    "                             title_suffix]))\n",
    "    ax.set_yticks(bins)\n",
    "    \n",
    "    # Create yticklabels. Each label contains the index of the row in the \n",
    "    # comparison_df it represents, as well as the sample_size in that row\n",
    "    labels = []\n",
    "    for row_number in bins:\n",
    "        labels.append(\n",
    "            str(comparison_df.index[row_number]) + ' (n='\n",
    "            + str(comparison_df.sample_size.iloc[row_number]) + ')'\n",
    "            )\n",
    "    ax.set_yticklabels(labels, ha = 'right')\n",
    "\n",
    "    # label the values of each bar\n",
    "    for bar in bars:\n",
    "        width = bar.get_width()\n",
    "        ax.text(\n",
    "            width * 1.02, bar.get_y() + (height / 2.), round(width, 3),\n",
    "            ha = 'left', va = 'center'\n",
    "            )\n",
    "    plt.show()\n",
    "    return"
   ]
  },
  {
   "cell_type": "code",
   "execution_count": 64,
   "id": "c6bec464",
   "metadata": {},
   "outputs": [],
   "source": [
    "def proportions_test(df1, df2, success_column):\n",
    "    '''\n",
    "    Z-test for difference in proportions of success_column values\n",
    "    between samples df1 and df2.\n",
    "    \n",
    "    Returns only the p-value\n",
    "    '''\n",
    "    success_count1 = len(df1[df1[success_column] == True])\n",
    "    success_count2 = len(df2[df2[success_column] == True])\n",
    "    num_of_obs1 = len(df1)\n",
    "    num_of_obs2 = len(df2)\n",
    "    results = statsmodels.stats.proportion.proportions_ztest(\n",
    "        [success_count1, success_count2], [num_of_obs1, num_of_obs2],\n",
    "        alternative = 'two-sided'\n",
    "        )\n",
    "    return results[1]\n"
   ]
  },
  {
   "cell_type": "code",
   "execution_count": 65,
   "id": "0c1ad5c3",
   "metadata": {},
   "outputs": [
    {
     "data": {
      "image/png": "[encoded data removed]",
      "text/plain": [
       "<Figure size 432x432 with 1 Axes>"
      ]
     },
     "metadata": {},
     "output_type": "display_data"
    }
   ],
   "source": [
    "pie_data = medical_df.lead_days_category.value_counts().sort_index()\n",
    "label_list = pie_data.index\n",
    "sizes = pie_data\n",
    "explode_list = (0.1, 0, 0, 0, 0) \n",
    "fig1, ax1 = plt.subplots(figsize=(6, 6))\n",
    "ax1.pie(\n",
    "    sizes, explode = explode_list, labels = label_list, autopct =' %1.1f%%',\n",
    "    pctdistance = 0.6, labeldistance = 1.05, shadow = True, startangle = 0,\n",
    "    )\n",
    "ax1.axis('equal') \n",
    "ax1.set_title('Appointment counts by lead_days_category')\n",
    "plt.show()"
   ]
  },
  {
   "cell_type": "markdown",
   "id": "b3a5256c",
   "metadata": {},
   "source": [
    "Appointments made in the same day constitute a larger percent of the dataset. This is noteworthy"
   ]
  },
  {
   "cell_type": "code",
   "execution_count": 66,
   "id": "7d2f1d72",
   "metadata": {},
   "outputs": [
    {
     "data": {
      "text/plain": [
       "tuple"
      ]
     },
     "execution_count": 66,
     "metadata": {},
     "output_type": "execute_result"
    }
   ],
   "source": [
    "type(compare_by_column(medical_df, 'lead_days_category'))"
   ]
  },
  {
   "cell_type": "code",
   "execution_count": 69,
   "id": "4108fbca",
   "metadata": {},
   "outputs": [
    {
     "data": {
      "image/png": "[encoded data removed]",
      "text/plain": [
       "<Figure size 432x432 with 1 Axes>"
      ]
     },
     "metadata": {
      "needs_background": "light"
     },
     "output_type": "display_data"
    }
   ],
   "source": [
    "comparison_df, overall_no_show_rate = (\n",
    "    compare_by_column(medical_df, 'lead_days_category')\n",
    "    )\n",
    "plot_no_show_rates(comparison_df, overall_no_show_rate, 6, 6)"
   ]
  },
  {
   "cell_type": "markdown",
   "id": "c0fddb1c",
   "metadata": {},
   "source": [
    "Appointments made on same day from this chart shows  lower rates, than other appointments. The most plausible reason forr this might be the categorization of walk-in visits as medical appointments.\n"
   ]
  },
  {
   "cell_type": "code",
   "execution_count": 70,
   "id": "03cb317d",
   "metadata": {},
   "outputs": [
    {
     "data": {
      "image/png": "[encoded data removed]",
      "text/plain": [
       "<Figure size 432x288 with 1 Axes>"
      ]
     },
     "metadata": {
      "needs_background": "light"
     },
     "output_type": "display_data"
    }
   ],
   "source": [
    "x = medical_df.groupby('lead_days')['SMS_received'].mean()[:31].index\n",
    "y = medical_df.groupby('lead_days')['SMS_received'].mean()[:31].values\n",
    "plt.plot(x,y, 'bo')\n",
    "plt.plot(x,y)\n",
    "plt.title('Proportion of SMS_received by lead_days')\n",
    "plt.xlabel('lead_days')\n",
    "plt.ylabel('Proportion of SMS_received')\n",
    "plt.show()"
   ]
  },
  {
   "cell_type": "markdown",
   "id": "3d6f0a53",
   "metadata": {},
   "source": [
    "From the line chart, we can establish a relationship between \"lead_days\" and \"sms_received\", for appointment that are 2 days aay, no sms or text was sent to the patient. However from four to five days away, we can clarly see \"true\" values in sms received. "
   ]
  },
  {
   "cell_type": "code",
   "execution_count": 72,
   "id": "bc548fe5",
   "metadata": {},
   "outputs": [
    {
     "data": {
      "image/png": "[encoded data removed]",
      "text/plain": [
       "<Figure size 360x360 with 1 Axes>"
      ]
     },
     "metadata": {
      "needs_background": "light"
     },
     "output_type": "display_data"
    }
   ],
   "source": [
    "lead_days_3plus_df = medical_df[medical_df.lead_days > 3]\n",
    "comparison_df, overall_no_show_rate = (compare_by_column(lead_days_3plus_df, 'SMS_received'))\n",
    "plot_no_show_rates(comparison_df, overall_no_show_rate, 5, 5, ' when lead_days > 3')"
   ]
  },
  {
   "cell_type": "markdown",
   "id": "8361d378",
   "metadata": {},
   "source": [
    "We can clearly see here that for lead_days > 3, patients who received sms have lower no-show rates"
   ]
  },
  {
   "cell_type": "code",
   "execution_count": 78,
   "id": "e67c3e80",
   "metadata": {},
   "outputs": [
    {
     "data": {
      "image/png": "[encoded data removed]",
      "text/plain": [
       "<Figure size 360x504 with 1 Axes>"
      ]
     },
     "metadata": {
      "needs_background": "light"
     },
     "output_type": "display_data"
    }
   ],
   "source": [
    "comparison_df, overall_no_show_rate = (compare_by_column(medical_df, 'age_group'))\n",
    "plot_no_show_rates(comparison_df, overall_no_show_rate, 5, 7)"
   ]
  },
  {
   "cell_type": "markdown",
   "id": "8e6bab6d",
   "metadata": {},
   "source": [
    "It is clearly evident that groups 1 and 2(age 10 to 29) have higher no-show rates than the remianing age groups. A possible explanation for this is that younger patients tend to miss their appointment, while group 0 which is an ooutlier in this keep to thir appointment, because they are younger patients who are accompanied by their parent.\n"
   ]
  },
  {
   "cell_type": "code",
   "execution_count": 80,
   "id": "566c01ce",
   "metadata": {},
   "outputs": [
    {
     "data": {
      "image/png": "[encoded data removed]",
      "text/plain": [
       "<Figure size 360x504 with 1 Axes>"
      ]
     },
     "metadata": {
      "needs_background": "light"
     },
     "output_type": "display_data"
    }
   ],
   "source": [
    "column_tocheck = ['is_female', 'is_male', 'scholarship', 'hypertension', 'diabetes', 'alcoholism','is_handicapped']\n",
    "comparison_df, overall_no_show_rate  = (\n",
    "    compare_by_multiple_booleans(medical_df, column_tocheck)\n",
    "    )\n",
    "plot_no_show_rates(comparison_df, overall_no_show_rate, 5, 7)"
   ]
  },
  {
   "cell_type": "markdown",
   "id": "0e9f70bb",
   "metadata": {},
   "source": [
    "Patients with hypertensive and diabetic  conditions tends to show for appointments more often than other condition categories. Also it is also note_worthy that patients on scholarship tends to miss their appointment very often. "
   ]
  },
  {
   "cell_type": "markdown",
   "id": "c9ef9702",
   "metadata": {},
   "source": []
  },
  {
   "cell_type": "code",
   "execution_count": 86,
   "id": "d558d255",
   "metadata": {},
   "outputs": [
    {
     "data": {
      "image/png": "[encoded data removed]",
      "text/plain": [
       "<Figure size 360x360 with 1 Axes>"
      ]
     },
     "metadata": {
      "needs_background": "light"
     },
     "output_type": "display_data"
    }
   ],
   "source": [
    "comparison_df, overall_no_show_rate = (\n",
    "    compare_by_column(medical_df, 'no_show_last_time')\n",
    "    )\n",
    "plot_no_show_rates(comparison_df, overall_no_show_rate, 5, 5)"
   ]
  },
  {
   "cell_type": "markdown",
   "id": "8dff744b",
   "metadata": {},
   "source": [
    "This visualization shows that patients who missed their appointment once have a higher rate of missing it again\n",
    "\n",
    "\n",
    "Conclusions\n",
    "\n",
    "Loooking at the dataset and some attributres from the data, some columns have shown relationship with no-show while others have been neutral in influencing patients not showing up, to their medical appointments. \n",
    "\n",
    "Age_group for example shows positive relationship with patients not showing up for appointments, although it will be erroneous to categorically conclude the ages of patient is the singular most important factor deciding whether they will show.\n",
    "\n",
    "Also incentives like SMS_received has show to be related, leaddays which is the number of days between the appointment and when it was scheduled is related to patients not showing up.\n",
    "\n"
   ]
  },
  {
   "cell_type": "markdown",
   "id": "32dde149",
   "metadata": {},
   "source": [
    "I have looked at most of the columns in our data set. Some of them show relationships with whether the patient showed up to the appointment, to various degrees, and also between themselves.\n",
    "\n",
    "SMS_received, lead_days (number of days between the appointment and when it was scheduled), and no_show exhibit interrelationships. This will be an important consideration in further studies on the prediction of no_show.\n",
    "\n",
    "age_group also seems to be related to no_show, but probably not monotonically. Like the previous finding, various boolean attributes like diabetes and hypertension exhibit interrelationships together with age_group and no_show.\n",
    "\n"
   ]
  }
 ],
 "metadata": {
  "kernelspec": {
   "display_name": "Python 3 (ipykernel)",
   "language": "python",
   "name": "python3"
  },
  "language_info": {
   "codemirror_mode": {
    "name": "ipython",
    "version": 3
   },
   "file_extension": ".py",
   "mimetype": "text/x-python",
   "name": "python",
   "nbconvert_exporter": "python",
   "pygments_lexer": "ipython3",
   "version": "3.9.12"
  }
 },
 "nbformat": 4,
 "nbformat_minor": 5
}
